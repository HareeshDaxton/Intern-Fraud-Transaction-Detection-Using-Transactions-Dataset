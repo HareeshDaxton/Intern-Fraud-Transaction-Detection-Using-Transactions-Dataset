{
 "cells": [
  {
   "cell_type": "code",
   "execution_count": 141,
   "id": "ff9dc857",
   "metadata": {},
   "outputs": [],
   "source": [
    "import pandas as pd\n",
    "import numpy as np\n",
    "import matplotlib.pyplot as plt\n",
    "import seaborn as sn\n",
    "import joblib\n",
    "from sklearn.tree import DecisionTreeClassifier\n",
    "from sklearn.model_selection import RandomizedSearchCV, StratifiedKFold\n",
    "from imblearn.over_sampling import SMOTE\n",
    "from sklearn.model_selection import train_test_split\n",
    "from sklearn.preprocessing import StandardScaler\n",
    "from sklearn.tree import DecisionTreeClassifier\n",
    "from sklearn.ensemble import RandomForestClassifier, AdaBoostClassifier, GradientBoostingClassifier\n",
    "from sklearn.linear_model import LogisticRegression\n",
    "from imblearn.pipeline import Pipeline\n",
    "from sklearn.metrics import confusion_matrix, accuracy_score, roc_auc_score, f1_score, recall_score, classification_report\n",
    "import warnings\n",
    "warnings.filterwarnings('ignore')"
   ]
  },
  {
   "cell_type": "code",
   "execution_count": 142,
   "id": "83656f6f",
   "metadata": {},
   "outputs": [
    {
     "data": {
      "text/html": [
       "<div>\n",
       "<style scoped>\n",
       "    .dataframe tbody tr th:only-of-type {\n",
       "        vertical-align: middle;\n",
       "    }\n",
       "\n",
       "    .dataframe tbody tr th {\n",
       "        vertical-align: top;\n",
       "    }\n",
       "\n",
       "    .dataframe thead th {\n",
       "        text-align: right;\n",
       "    }\n",
       "</style>\n",
       "<table border=\"1\" class=\"dataframe\">\n",
       "  <thead>\n",
       "    <tr style=\"text-align: right;\">\n",
       "      <th></th>\n",
       "      <th>CUSTOMER_ID</th>\n",
       "      <th>TERMINAL_ID</th>\n",
       "      <th>TX_AMOUNT</th>\n",
       "      <th>TX_FRAUD</th>\n",
       "      <th>DAY</th>\n",
       "      <th>MONTH</th>\n",
       "      <th>YEAR</th>\n",
       "      <th>HOUR</th>\n",
       "      <th>MINUTE</th>\n",
       "    </tr>\n",
       "  </thead>\n",
       "  <tbody>\n",
       "    <tr>\n",
       "      <th>0</th>\n",
       "      <td>566</td>\n",
       "      <td>5056</td>\n",
       "      <td>20.71</td>\n",
       "      <td>0</td>\n",
       "      <td>4</td>\n",
       "      <td>4</td>\n",
       "      <td>2018</td>\n",
       "      <td>14</td>\n",
       "      <td>34</td>\n",
       "    </tr>\n",
       "    <tr>\n",
       "      <th>1</th>\n",
       "      <td>524</td>\n",
       "      <td>1445</td>\n",
       "      <td>13.04</td>\n",
       "      <td>0</td>\n",
       "      <td>2</td>\n",
       "      <td>4</td>\n",
       "      <td>2018</td>\n",
       "      <td>10</td>\n",
       "      <td>46</td>\n",
       "    </tr>\n",
       "    <tr>\n",
       "      <th>2</th>\n",
       "      <td>2457</td>\n",
       "      <td>4068</td>\n",
       "      <td>157.29</td>\n",
       "      <td>0</td>\n",
       "      <td>2</td>\n",
       "      <td>4</td>\n",
       "      <td>2018</td>\n",
       "      <td>6</td>\n",
       "      <td>17</td>\n",
       "    </tr>\n",
       "    <tr>\n",
       "      <th>3</th>\n",
       "      <td>1636</td>\n",
       "      <td>3895</td>\n",
       "      <td>94.08</td>\n",
       "      <td>0</td>\n",
       "      <td>3</td>\n",
       "      <td>4</td>\n",
       "      <td>2018</td>\n",
       "      <td>0</td>\n",
       "      <td>2</td>\n",
       "    </tr>\n",
       "    <tr>\n",
       "      <th>4</th>\n",
       "      <td>4466</td>\n",
       "      <td>6925</td>\n",
       "      <td>24.55</td>\n",
       "      <td>0</td>\n",
       "      <td>4</td>\n",
       "      <td>4</td>\n",
       "      <td>2018</td>\n",
       "      <td>12</td>\n",
       "      <td>59</td>\n",
       "    </tr>\n",
       "  </tbody>\n",
       "</table>\n",
       "</div>"
      ],
      "text/plain": [
       "   CUSTOMER_ID  TERMINAL_ID  TX_AMOUNT  TX_FRAUD  DAY  MONTH  YEAR  HOUR  \\\n",
       "0          566         5056      20.71         0    4      4  2018    14   \n",
       "1          524         1445      13.04         0    2      4  2018    10   \n",
       "2         2457         4068     157.29         0    2      4  2018     6   \n",
       "3         1636         3895      94.08         0    3      4  2018     0   \n",
       "4         4466         6925      24.55         0    4      4  2018    12   \n",
       "\n",
       "   MINUTE  \n",
       "0      34  \n",
       "1      46  \n",
       "2      17  \n",
       "3       2  \n",
       "4      59  "
      ]
     },
     "execution_count": 142,
     "metadata": {},
     "output_type": "execute_result"
    }
   ],
   "source": [
    "df = pd.read_csv('processed_fraud_data.csv')\n",
    "df.head()"
   ]
  },
  {
   "cell_type": "code",
   "execution_count": 143,
   "id": "b3418121",
   "metadata": {},
   "outputs": [
    {
     "data": {
      "text/plain": [
       "(67000, 9)"
      ]
     },
     "execution_count": 143,
     "metadata": {},
     "output_type": "execute_result"
    }
   ],
   "source": [
    "df.shape"
   ]
  },
  {
   "cell_type": "code",
   "execution_count": 144,
   "id": "a8add572",
   "metadata": {},
   "outputs": [],
   "source": [
    "x = df.drop(columns=['TX_FRAUD'], axis=1)\n",
    "y = df['TX_FRAUD']"
   ]
  },
  {
   "cell_type": "code",
   "execution_count": 145,
   "id": "e498d0a7",
   "metadata": {},
   "outputs": [
    {
     "data": {
      "text/plain": [
       "((46900, 8), (20100, 8), (46900,), (20100,))"
      ]
     },
     "execution_count": 145,
     "metadata": {},
     "output_type": "execute_result"
    }
   ],
   "source": [
    "x_train, x_test, y_train, y_test = train_test_split(x, y, test_size=0.30, random_state = 42, stratify=y)\n",
    "x_train.shape, x_test.shape, y_train.shape, y_test.shape"
   ]
  },
  {
   "cell_type": "code",
   "execution_count": 146,
   "id": "1df27d61",
   "metadata": {},
   "outputs": [],
   "source": [
    "pipeline = Pipeline([\n",
    "    #('smote', SMOTE(sampling_strategy=0.12, random_state=42)),   # mild oversampling: fraud -> ~12% (adjustable)\n",
    "    ('scaler', StandardScaler()),\n",
    "    ('model', AdaBoostClassifier(\n",
    "        estimator=DecisionTreeClassifier(random_state=42),\n",
    "        random_state=42\n",
    "    ))\n",
    "])"
   ]
  },
  {
   "cell_type": "code",
   "execution_count": 147,
   "id": "2a7aaa31",
   "metadata": {},
   "outputs": [],
   "source": [
    "models = {\n",
    "    'LogisticRegression': LogisticRegression(),\n",
    "    'DecisionTreeClassifier' : DecisionTreeClassifier(),\n",
    "    'RandomForestClassifier' : RandomForestClassifier(),\n",
    "    'AdaBoostClassifier' : AdaBoostClassifier(),\n",
    "    'GradientBoostingClassifier' : GradientBoostingClassifier()\n",
    "}\n"
   ]
  },
  {
   "cell_type": "code",
   "execution_count": 148,
   "id": "c866ffb8",
   "metadata": {},
   "outputs": [],
   "source": [
    "def validation(true, predicted):\n",
    "    auc = accuracy_score(true, predicted)\n",
    "    f1 = f1_score(true, predicted,  average='weighted')\n",
    "    recall = recall_score(true, predicted)\n",
    "    roc = roc_auc_score(true, predicted)\n",
    "    \n",
    "    return auc, f1, recall, roc"
   ]
  },
  {
   "cell_type": "code",
   "execution_count": 149,
   "id": "1bbaa56b",
   "metadata": {},
   "outputs": [
    {
     "name": "stdout",
     "output_type": "stream",
     "text": [
      "----------------------------------------------\n",
      "Model Selection for Training Dataset :  LogisticRegression\n",
      "Accuracy Score : 0.9985\n",
      "F1 Score : 0.9985\n",
      "Recall Score : 0.9160\n",
      "ROC AUC Score : 0.9577\n",
      "----------------------------------------------\n",
      "Model Selection for Test Dataset :  LogisticRegression\n",
      "Accuracy Score : 0.9989\n",
      "F1 Score : 0.9989\n",
      "Recall Score : 0.9314\n",
      "ROC AUC Score : 0.9655\n",
      "----------------------------------------------\n",
      "----------------------------------------------\n",
      "Model Selection for Training Dataset :  DecisionTreeClassifier\n",
      "Accuracy Score : 1.0000\n",
      "F1 Score : 1.0000\n",
      "Recall Score : 1.0000\n",
      "ROC AUC Score : 1.0000\n",
      "----------------------------------------------\n",
      "Model Selection for Test Dataset :  DecisionTreeClassifier\n",
      "Accuracy Score : 0.9995\n",
      "F1 Score : 0.9995\n",
      "Recall Score : 0.9755\n",
      "ROC AUC Score : 0.9876\n",
      "----------------------------------------------\n",
      "----------------------------------------------\n",
      "Model Selection for Training Dataset :  RandomForestClassifier\n",
      "Accuracy Score : 1.0000\n",
      "F1 Score : 1.0000\n",
      "Recall Score : 1.0000\n",
      "ROC AUC Score : 1.0000\n",
      "----------------------------------------------\n",
      "Model Selection for Test Dataset :  RandomForestClassifier\n",
      "Accuracy Score : 0.9998\n",
      "F1 Score : 0.9997\n",
      "Recall Score : 0.9755\n",
      "ROC AUC Score : 0.9877\n",
      "----------------------------------------------\n",
      "----------------------------------------------\n",
      "Model Selection for Training Dataset :  AdaBoostClassifier\n",
      "Accuracy Score : 0.9997\n",
      "F1 Score : 0.9997\n",
      "Recall Score : 0.9727\n",
      "ROC AUC Score : 0.9863\n",
      "----------------------------------------------\n",
      "Model Selection for Test Dataset :  AdaBoostClassifier\n",
      "Accuracy Score : 0.9997\n",
      "F1 Score : 0.9997\n",
      "Recall Score : 0.9755\n",
      "ROC AUC Score : 0.9877\n",
      "----------------------------------------------\n",
      "----------------------------------------------\n",
      "Model Selection for Training Dataset :  GradientBoostingClassifier\n",
      "Accuracy Score : 1.0000\n",
      "F1 Score : 1.0000\n",
      "Recall Score : 0.9979\n",
      "ROC AUC Score : 0.9989\n",
      "----------------------------------------------\n",
      "Model Selection for Test Dataset :  GradientBoostingClassifier\n",
      "Accuracy Score : 0.9998\n",
      "F1 Score : 0.9997\n",
      "Recall Score : 0.9755\n",
      "ROC AUC Score : 0.9877\n",
      "----------------------------------------------\n"
     ]
    }
   ],
   "source": [
    "for ml in range(len(models)):\n",
    "    model = list(models.values())[ml]\n",
    "    model_name  = list(models.keys())[ml]\n",
    "    model.fit(x_train, y_train)\n",
    "    \n",
    "    y_train_pred = model.predict(x_train)\n",
    "    y_test_pred = model.predict(x_test)\n",
    "    \n",
    "    ml_train_acc, ml_train_f1, ml_train_recall, ml_train_roc = validation(y_train, y_train_pred)\n",
    "    ml_test_acc, ml_test_f1, ml_test_recall, ml_test_roc = validation(y_test, y_test_pred)\n",
    "    \n",
    "    print(\"----------------------------------------------\")\n",
    "    print(\"Model Selection for Training Dataset : \", model_name)\n",
    "    print(\"Accuracy Score : {:.4f}\".format(ml_train_acc))\n",
    "    print(\"F1 Score : {:.4f}\".format(ml_train_f1))\n",
    "    print(\"Recall Score : {:.4f}\".format(ml_train_recall))\n",
    "    print(\"ROC AUC Score : {:.4f}\".format(ml_train_roc))\n",
    "    \n",
    "    print(\"----------------------------------------------\")\n",
    "    print(\"Model Selection for Test Dataset : \", model_name)\n",
    "    print(\"Accuracy Score : {:.4f}\".format(ml_test_acc))\n",
    "    print(\"F1 Score : {:.4f}\".format(ml_test_f1))\n",
    "    print(\"Recall Score : {:.4f}\".format(ml_test_recall))\n",
    "    print(\"ROC AUC Score : {:.4f}\".format(ml_test_roc))\n",
    "    print(\"----------------------------------------------\")\n",
    "    \n",
    "    \n",
    "    "
   ]
  },
  {
   "cell_type": "code",
   "execution_count": 150,
   "id": "b4fc95d7",
   "metadata": {},
   "outputs": [],
   "source": [
    "param_dist = {\n",
    "    'model__n_estimators': [50, 100, 150, 200, 300],\n",
    "    'model__learning_rate': [0.01, 0.05, 0.1, 0.2],\n",
    "    'model__algorithm': ['SAMME.R', 'SAMME'],\n",
    "    \n",
    "    'model__estimator__max_depth': [1, 2, 3, 4],\n",
    "    'model__estimator__min_samples_split': [2, 5, 10],\n",
    "    'model__estimator__min_samples_leaf': [1, 2, 4]\n",
    "}"
   ]
  },
  {
   "cell_type": "code",
   "execution_count": 151,
   "id": "b355fca5",
   "metadata": {},
   "outputs": [],
   "source": [
    "\n",
    "cv = StratifiedKFold(n_splits=3, shuffle=True, random_state=42)"
   ]
  },
  {
   "cell_type": "code",
   "execution_count": 152,
   "id": "747f5155",
   "metadata": {},
   "outputs": [
    {
     "name": "stdout",
     "output_type": "stream",
     "text": [
      "Fitting 3 folds for each of 30 candidates, totalling 90 fits\n",
      "Best params:\n",
      "{'model__n_estimators': 200, 'model__learning_rate': 0.01, 'model__estimator__min_samples_split': 5, 'model__estimator__min_samples_leaf': 4, 'model__estimator__max_depth': 3, 'model__algorithm': 'SAMME'}\n",
      "Best CV ROC AUC: 1.0000\n"
     ]
    }
   ],
   "source": [
    "    \n",
    "rnd_search = RandomizedSearchCV(estimator=pipeline, param_distributions=param_dist, n_iter=30, scoring='roc_auc', n_jobs=-1, cv=cv, verbose=2, random_state=42)\n",
    "rnd_search.fit(x_train, y_train)\n",
    "\n",
    "print(\"Best params:\")\n",
    "print(rnd_search.best_params_)\n",
    "print(\"Best CV ROC AUC: {:.4f}\".format(rnd_search.best_score_))"
   ]
  },
  {
   "cell_type": "code",
   "execution_count": 154,
   "id": "64b3aa4d",
   "metadata": {},
   "outputs": [],
   "source": [
    "base_tree = DecisionTreeClassifier(\n",
    "    max_depth=3,\n",
    "    min_samples_split=5,\n",
    "    min_samples_leaf=4,\n",
    "    random_state=42\n",
    ")"
   ]
  },
  {
   "cell_type": "code",
   "execution_count": 155,
   "id": "91876d59",
   "metadata": {},
   "outputs": [],
   "source": [
    "ada = AdaBoostClassifier(\n",
    "    estimator=base_tree,\n",
    "    n_estimators=200,\n",
    "    learning_rate=0.01,\n",
    "    algorithm='SAMME',\n",
    "    random_state=42\n",
    ")"
   ]
  },
  {
   "cell_type": "code",
   "execution_count": 156,
   "id": "be74a7a0",
   "metadata": {},
   "outputs": [
    {
     "name": "stdout",
     "output_type": "stream",
     "text": [
      "----------------------------------------------\n",
      "Model Selection for Training Dataset :  AdaBoostClassifier \n",
      "Accuracy Score : 0.9997\n",
      "F1 Score : 0.9997\n",
      "Recall Score : 0.9727\n",
      "ROC AUC Score : 0.9863\n",
      "----------------------------------------------\n",
      "Model Selection for Test Dataset :  AdaBoostClassifier\n",
      "Accuracy Score : 0.9997\n",
      "F1 Score : 0.9997\n",
      "Recall Score : 0.9755\n",
      "ROC AUC Score : 0.9877\n",
      "----------------------------------------------\n"
     ]
    }
   ],
   "source": [
    "pipeline = Pipeline([\n",
    "    #('smote', SMOTE(random_state=42)),\n",
    "    ('scaler', StandardScaler()),\n",
    "    ('model', ada)\n",
    "])\n",
    "    \n",
    "pipeline.fit(x_train, y_train)\n",
    "y_train_pred = pipeline.predict(x_train)\n",
    "y_test_pred = pipeline.predict(x_test)\n",
    "\n",
    "\n",
    "ml_train_acc, ml_train_f1, ml_train_recall, ml_train_roc = validation(y_train, y_train_pred)\n",
    "ml_test_acc, ml_test_f1, ml_test_recall, ml_test_roc = validation(y_test, y_test_pred)\n",
    "    \n",
    "print(\"----------------------------------------------\")\n",
    "print(\"Model Selection for Training Dataset :  AdaBoostClassifier \")\n",
    "print(\"Accuracy Score : {:.4f}\".format(ml_train_acc))\n",
    "print(\"F1 Score : {:.4f}\".format(ml_train_f1))\n",
    "print(\"Recall Score : {:.4f}\".format(ml_train_recall))\n",
    "print(\"ROC AUC Score : {:.4f}\".format(ml_train_roc))\n",
    "    \n",
    "print(\"----------------------------------------------\")\n",
    "print(\"Model Selection for Test Dataset :  AdaBoostClassifier\")\n",
    "print(\"Accuracy Score : {:.4f}\".format(ml_test_acc))\n",
    "print(\"F1 Score : {:.4f}\".format(ml_test_f1))\n",
    "print(\"Recall Score : {:.4f}\".format(ml_test_recall))\n",
    "print(\"ROC AUC Score : {:.4f}\".format(ml_test_roc))\n",
    "print(\"----------------------------------------------\")\n",
    "    \n"
   ]
  },
  {
   "cell_type": "code",
   "execution_count": 158,
   "id": "6fb91716",
   "metadata": {},
   "outputs": [
    {
     "data": {
      "text/plain": [
       "['ada_model.pkl']"
      ]
     },
     "execution_count": 158,
     "metadata": {},
     "output_type": "execute_result"
    }
   ],
   "source": [
    "joblib.dump(pipeline, 'ada_model.pkl')"
   ]
  },
  {
   "cell_type": "code",
   "execution_count": 157,
   "id": "15fac0d4",
   "metadata": {},
   "outputs": [
    {
     "name": "stdout",
     "output_type": "stream",
     "text": [
      "Sample Prediction: Non-Fraud (Fraud Probability: 32.38%)\n"
     ]
    }
   ],
   "source": [
    "sample_data = pd.DataFrame([{\n",
    "    \"CUSTOMER_ID\": 124,\n",
    "    \"TERMINAL_ID\": 568,\n",
    "    \"TX_AMOUNT\": 30,\n",
    "    \"DAY\": 15,\n",
    "    \"MONTH\": 7,\n",
    "    \"YEAR\": 2018,\n",
    "    \"HOUR\": 14,\n",
    "    \"MINUTE\": 35\n",
    "}])\n",
    "\n",
    "pred = pipeline.predict(sample_data)[0]\n",
    "prob = pipeline.predict_proba(sample_data)[0][1]\n",
    "\n",
    "status = \"Fraud\" if pred == 1 else \"Non-Fraud\"\n",
    "print(f\"Sample Prediction: {status} (Fraud Probability: {prob:.2%})\")"
   ]
  },
  {
   "cell_type": "code",
   "execution_count": null,
   "id": "30f2bbd6",
   "metadata": {},
   "outputs": [],
   "source": []
  }
 ],
 "metadata": {
  "kernelspec": {
   "display_name": "Python 3",
   "language": "python",
   "name": "python3"
  },
  "language_info": {
   "codemirror_mode": {
    "name": "ipython",
    "version": 3
   },
   "file_extension": ".py",
   "mimetype": "text/x-python",
   "name": "python",
   "nbconvert_exporter": "python",
   "pygments_lexer": "ipython3",
   "version": "3.11.5"
  }
 },
 "nbformat": 4,
 "nbformat_minor": 5
}
